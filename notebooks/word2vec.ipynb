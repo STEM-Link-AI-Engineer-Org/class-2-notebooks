{
 "cells": [
  {
   "cell_type": "code",
   "execution_count": 1,
   "id": "096b1f04",
   "metadata": {},
   "outputs": [],
   "source": [
    "import gensim.downloader as api\n",
    "from gensim.models import KeyedVectors\n",
    "import numpy as np\n",
    "import matplotlib.pyplot as plt\n",
    "from sklearn.decomposition import PCA"
   ]
  },
  {
   "cell_type": "code",
   "execution_count": 3,
   "id": "44c35fa4",
   "metadata": {},
   "outputs": [
    {
     "name": "stdout",
     "output_type": "stream",
     "text": [
      "Vocabulary size: 400000\n"
     ]
    }
   ],
   "source": [
    "# Download a small pretrained Word2Vec model for demo\n",
    "model = api.load(\"glove-wiki-gigaword-50\")  # 50-dimensional embeddings\n",
    "print(\"Vocabulary size:\", len(model.key_to_index))"
   ]
  },
  {
   "cell_type": "markdown",
   "id": "6cc2425c",
   "metadata": {},
   "source": [
    "👉 This loads embeddings trained on Wikipedia + Gigaword data. Each word is represented as a 50-dimensional vector."
   ]
  },
  {
   "cell_type": "code",
   "execution_count": 4,
   "id": "0ddec029",
   "metadata": {},
   "outputs": [
    {
     "name": "stdout",
     "output_type": "stream",
     "text": [
      "Embedding for 'king':\n",
      " [ 0.50451   0.68607  -0.59517  -0.022801  0.60046  -0.13498  -0.08813\n",
      "  0.47377  -0.61798  -0.31012  -0.076666  1.493    -0.034189 -0.98173\n",
      "  0.68229   0.81722  -0.51874  -0.31503  -0.55809   0.66421   0.1961\n",
      " -0.13495  -0.11476  -0.30344   0.41177  -2.223    -1.0756   -1.0783\n",
      " -0.34354   0.33505   1.9927   -0.04234  -0.64319   0.71125   0.49159\n",
      "  0.16754   0.34344  -0.25663  -0.8523    0.1661    0.40102   1.1685\n",
      " -1.0137   -0.21585  -0.15155   0.78321  -0.91241  -1.6106   -0.64426\n",
      " -0.51042 ]\n",
      "Vector dimension: (50,)\n"
     ]
    }
   ],
   "source": [
    "# Look at the embedding vector for a single word\n",
    "word = \"king\"\n",
    "vector = model[word]\n",
    "print(f\"Embedding for '{word}':\\n\", vector)\n",
    "print(\"Vector dimension:\", vector.shape)"
   ]
  },
  {
   "cell_type": "markdown",
   "id": "b4c874f2",
   "metadata": {},
   "source": [
    "👉 This is just a list of 50 numbers. Alone they mean little, but collectively they capture the semantic essence of the word."
   ]
  },
  {
   "cell_type": "code",
   "execution_count": 5,
   "id": "fe9ca526",
   "metadata": {},
   "outputs": [
    {
     "name": "stdout",
     "output_type": "stream",
     "text": [
      "[('prince', 0.8236179947853088), ('queen', 0.7839042544364929), ('ii', 0.7746230363845825), ('emperor', 0.7736247777938843), ('son', 0.7667195200920105)]\n",
      "Similarity(king, queen): 0.7839043\n",
      "Similarity(king, apple): 0.30468506\n"
     ]
    }
   ],
   "source": [
    "# Find most similar words to \"king\"\n",
    "print(model.most_similar(\"king\", topn=5))\n",
    "\n",
    "# Compare similarities between pairs\n",
    "print(\"Similarity(king, queen):\", model.similarity(\"king\", \"queen\"))\n",
    "print(\"Similarity(king, apple):\", model.similarity(\"king\", \"apple\"))"
   ]
  },
  {
   "cell_type": "markdown",
   "id": "06c7914b",
   "metadata": {},
   "source": [
    "👉 Cosine similarity measures closeness in the embedding space."
   ]
  },
  {
   "cell_type": "code",
   "execution_count": 6,
   "id": "ce92e4e6",
   "metadata": {},
   "outputs": [
    {
     "name": "stdout",
     "output_type": "stream",
     "text": [
      "Analogy result (king - man + woman): [('queen', 0.8523604273796082), ('throne', 0.7664334177970886), ('prince', 0.7592144012451172)]\n"
     ]
    }
   ],
   "source": [
    "result = model.most_similar(positive=[\"king\", \"woman\"], negative=[\"man\"], topn=3)\n",
    "print(\"Analogy result (king - man + woman):\", result)"
   ]
  },
  {
   "cell_type": "markdown",
   "id": "d474cf1e",
   "metadata": {},
   "source": [
    "👉 Embeddings capture relationships like gender or royalty in their vector arithmetic."
   ]
  },
  {
   "cell_type": "code",
   "execution_count": 7,
   "id": "c4863e56",
   "metadata": {},
   "outputs": [
    {
     "data": {
      "image/png": "[encoded data removed]",
      "text/plain": [
       "<Figure size 800x600 with 1 Axes>"
      ]
     },
     "metadata": {},
     "output_type": "display_data"
    }
   ],
   "source": [
    "# Pick some words to visualize\n",
    "words = [\"king\", \"queen\", \"man\", \"woman\", \"apple\", \"orange\", \"fruit\", \"dog\", \"cat\", \"animal\"]\n",
    "vectors = np.array([model[w] for w in words])\n",
    "\n",
    "# Reduce dimensions from 50D → 2D using PCA\n",
    "pca = PCA(n_components=2)\n",
    "reduced = pca.fit_transform(vectors)\n",
    "\n",
    "# Plot\n",
    "plt.figure(figsize=(8,6))\n",
    "plt.scatter(reduced[:,0], reduced[:,1])\n",
    "for i, word in enumerate(words):\n",
    "    plt.annotate(word, (reduced[i,0], reduced[i,1]))\n",
    "plt.title(\"Word Embeddings Projected to 2D (via PCA)\")\n",
    "plt.show()"
   ]
  }
 ],
 "metadata": {
  "kernelspec": {
   "display_name": ".venv",
   "language": "python",
   "name": "python3"
  },
  "language_info": {
   "codemirror_mode": {
    "name": "ipython",
    "version": 3
   },
   "file_extension": ".py",
   "mimetype": "text/x-python",
   "name": "python",
   "nbconvert_exporter": "python",
   "pygments_lexer": "ipython3",
   "version": "3.10.18"
  }
 },
 "nbformat": 4,
 "nbformat_minor": 5
}
